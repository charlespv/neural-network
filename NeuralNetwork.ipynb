{
 "cells": [
  {
   "cell_type": "markdown",
   "metadata": {},
   "source": [
    "   # Simple Neural Network from scratch\n",
    "   \n",
    "Details about dataset (CSV) :\n",
    "- First column is the target variable\n",
    "- All the others columns contain pixel intensity value (28px x 28px = 784 columns)"
   ]
  },
  {
   "cell_type": "markdown",
   "metadata": {},
   "source": [
    "## Import"
   ]
  },
  {
   "cell_type": "code",
   "execution_count": 132,
   "metadata": {},
   "outputs": [],
   "source": [
    "import numpy as np\n",
    "import pandas as pd\n",
    "\n",
    "import matplotlib.pyplot as plt"
   ]
  },
  {
   "cell_type": "markdown",
   "metadata": {},
   "source": [
    "### Functions"
   ]
  },
  {
   "cell_type": "code",
   "execution_count": 133,
   "metadata": {},
   "outputs": [],
   "source": [
    "@np.vectorize\n",
    "def sigmoid(x):\n",
    "    return 1/(1+ np.exp(-x))"
   ]
  },
  {
   "cell_type": "code",
   "execution_count": 134,
   "metadata": {},
   "outputs": [],
   "source": [
    "class NeuralNetwork:\n",
    "    def __init__(self,\n",
    "                nb_input_perceptrons,\n",
    "                nb_hidden_perceptrons,\n",
    "                nb_output_perceptrons,\n",
    "                learning_rate):\n",
    "        self.nb_input_perceptrons = nb_input_perceptrons\n",
    "        self.nb_hidden_perceptrons = nb_hidden_perceptrons\n",
    "        self.nb_output_perceptrons = nb_output_perceptrons\n",
    "        self.learning_rate = learning_rate\n",
    "        self.init_matrix()\n",
    "        \n",
    "    def init_matrix(self):\n",
    "        self.W_h = np.random.normal(0, 1, (self.nb_hidden_perceptrons, self.nb_input_perceptrons))\n",
    "        self.B_h = np.ones((self.nb_hidden_perceptrons,1))\n",
    "        \n",
    "        self.W_o = np.random.normal(0, 1, (self.nb_output_perceptrons, self.nb_hidden_perceptrons))\n",
    "        self.B_o = np.ones((self.nb_output_perceptrons,1))\n",
    "        \n",
    "    \n",
    "    def train_one(self, input_vector, target_vector):\n",
    "        \n",
    "        input_vector = np.array(input_vector, ndmin=2).T\n",
    "        target_vector = np.array(target_vector, ndmin=2).T\n",
    "        \n",
    "        output_vector1 = np.dot(self.W_h, input_vector)\n",
    "        #print('output_vector1 shape =>', output_vector1.shape)\n",
    "        #print('self.B_h shape =>', self.B_h.shape)\n",
    "        \n",
    "        output_vector1 = np.sum([output_vector1, self.B_h], axis=0)\n",
    "        \n",
    "        #print('output_vector1 after add bias shape =>', output_vector1.shape)\n",
    "        \n",
    "        output_hidden = sigmoid(output_vector1)\n",
    "        #print('self.W_o shape =>', self.W_o.shape)\n",
    "        #print('output_hidden shape =>', output_hidden.shape)\n",
    "        \n",
    "        output_vector2 = np.dot(self.W_o, output_hidden)\n",
    "        #print('output_vector2 shape =>', output_vector2.shape)\n",
    "        \n",
    "        output_vector2 = np.sum([output_vector2, self.B_o], axis=0)\n",
    "        output_network = sigmoid(output_vector2)\n",
    "        \n",
    "        output_errors = target_vector - output_network\n",
    "        # Gradient descent\n",
    "        tmp = - output_errors * output_network * (1.0-output_network)\n",
    "        tmp = self.learning_rate * np.dot(tmp, output_hidden.T)\n",
    "        \n",
    "        self.W_o = self.W_o -tmp\n",
    "        \n",
    "        #Backpropagation\n",
    "        hidden_errors = np.dot(self.W_o.T, output_errors)\n",
    "        \n",
    "        tmp =- hidden_errors *output_hidden * (1-output_hidden)\n",
    "        self.W_h = self.W_h - self.learning_rate * np.dot(tmp, input_vector.T)\n",
    "    \n",
    "    def train(self, data_array, labels_one_hot_array):\n",
    "        \n",
    "            for i in range(len(data_array)):\n",
    "                self.train_one(data_array[i], labels_one_hot_array[i])\n",
    "            \n",
    "    def predict(self, input_vector):\n",
    "        \n",
    "        input_vector = np.array(input_vector, ndmin=2).T\n",
    "        output_vector = np.dot(self.W_h, input_vector)\n",
    "        output_vector = sigmoid(output_vector)\n",
    "        \n",
    "        output_vector = np.dot(self.W_o, output_vector)\n",
    "        output_vector = sigmoid(output_vector)\n",
    "        \n",
    "        return output_vector\n",
    "    \n",
    "    def accuracy(self, data, labels):\n",
    "        \n",
    "        corrects, wrongs = 0, 0\n",
    "\n",
    "        for i in range(len(data)):\n",
    "            res = self.predict(data[i])\n",
    "            res_max = np.argmax(res)\n",
    "            if res_max == labels[i]:\n",
    "                corrects = corrects +1\n",
    "            else : \n",
    "                wrongs = wrongs +1\n",
    "\n",
    "        return corrects/( wrongs + corrects)\n"
   ]
  },
  {
   "cell_type": "markdown",
   "metadata": {},
   "source": [
    "## Train/Test Split"
   ]
  },
  {
   "cell_type": "code",
   "execution_count": 135,
   "metadata": {},
   "outputs": [],
   "source": [
    "data_train = np.loadtxt('digits_train.csv', delimiter=',')\n",
    "data_test = np.loadtxt('digits_test.csv', delimiter =',')"
   ]
  },
  {
   "cell_type": "code",
   "execution_count": 136,
   "metadata": {},
   "outputs": [
    {
     "data": {
      "text/plain": [
       "(60000, 785)"
      ]
     },
     "execution_count": 136,
     "metadata": {},
     "output_type": "execute_result"
    }
   ],
   "source": [
    "data_train.shape"
   ]
  },
  {
   "cell_type": "markdown",
   "metadata": {},
   "source": [
    "## Transformations"
   ]
  },
  {
   "cell_type": "code",
   "execution_count": 137,
   "metadata": {},
   "outputs": [],
   "source": [
    "std = 0.98/255\n",
    "\n",
    "train_images = np.asfarray(data_train[:, 1:]) *std +0.01 # Reducing sparsity of images\n",
    "test_images = np.asfarray(data_test[:, 1:])*std +0.01 # Reducing sparsity of images\n",
    "\n",
    "train_label = np.asfarray(data_train[:,:1])\n",
    "test_label = np.asfarray(data_test[:,:1])"
   ]
  },
  {
   "cell_type": "code",
   "execution_count": 138,
   "metadata": {},
   "outputs": [
    {
     "data": {
      "text/plain": [
       "<matplotlib.image.AxesImage at 0x11968f250>"
      ]
     },
     "execution_count": 138,
     "metadata": {},
     "output_type": "execute_result"
    },
    {
     "data": {
      "image/png": "[encoded data removed]",
      "text/plain": [
       "<Figure size 432x288 with 1 Axes>"
      ]
     },
     "metadata": {
      "needs_background": "light"
     },
     "output_type": "display_data"
    }
   ],
   "source": [
    "plt.imshow(train_images[5].reshape(28,28), cmap='gray')"
   ]
  },
  {
   "cell_type": "code",
   "execution_count": 139,
   "metadata": {},
   "outputs": [
    {
     "data": {
      "text/plain": [
       "(60000, 784)"
      ]
     },
     "execution_count": 139,
     "metadata": {},
     "output_type": "execute_result"
    }
   ],
   "source": [
    "train_images.shape"
   ]
  },
  {
   "cell_type": "code",
   "execution_count": 140,
   "metadata": {},
   "outputs": [
    {
     "data": {
      "text/plain": [
       "(60000, 1)"
      ]
     },
     "execution_count": 140,
     "metadata": {},
     "output_type": "execute_result"
    }
   ],
   "source": [
    "train_label.shape"
   ]
  },
  {
   "cell_type": "code",
   "execution_count": 141,
   "metadata": {},
   "outputs": [
    {
     "data": {
      "text/plain": [
       "array([0, 1, 2, 3, 4, 5, 6, 7, 8, 9])"
      ]
     },
     "execution_count": 141,
     "metadata": {},
     "output_type": "execute_result"
    }
   ],
   "source": [
    "lr = np.arange(10)\n",
    "lr"
   ]
  },
  {
   "cell_type": "code",
   "execution_count": 142,
   "metadata": {},
   "outputs": [],
   "source": [
    "train_labels_one_hot = (lr==train_label).astype(np.float)\n",
    "test_labels_one_hot = (lr==test_label).astype(np.float)"
   ]
  },
  {
   "cell_type": "code",
   "execution_count": 143,
   "metadata": {},
   "outputs": [
    {
     "data": {
      "text/plain": [
       "array([[0., 0., 0., ..., 0., 0., 0.],\n",
       "       [1., 0., 0., ..., 0., 0., 0.],\n",
       "       [0., 0., 0., ..., 0., 0., 0.],\n",
       "       ...,\n",
       "       [0., 0., 0., ..., 0., 0., 0.],\n",
       "       [0., 0., 0., ..., 0., 0., 0.],\n",
       "       [0., 0., 0., ..., 0., 1., 0.]])"
      ]
     },
     "execution_count": 143,
     "metadata": {},
     "output_type": "execute_result"
    }
   ],
   "source": [
    "train_labels_one_hot"
   ]
  },
  {
   "cell_type": "code",
   "execution_count": 144,
   "metadata": {},
   "outputs": [],
   "source": [
    "ANN = NeuralNetwork(nb_input_perceptrons = 784,\n",
    "                nb_hidden_perceptrons = 50,\n",
    "                nb_output_perceptrons =10,\n",
    "                learning_rate = 0.05)"
   ]
  },
  {
   "cell_type": "markdown",
   "metadata": {},
   "source": [
    "## Train"
   ]
  },
  {
   "cell_type": "code",
   "execution_count": 145,
   "metadata": {},
   "outputs": [],
   "source": [
    "ANN.train(train_images, train_labels_one_hot)"
   ]
  },
  {
   "cell_type": "markdown",
   "metadata": {},
   "source": [
    "## Performance"
   ]
  },
  {
   "cell_type": "code",
   "execution_count": 146,
   "metadata": {},
   "outputs": [
    {
     "data": {
      "text/plain": [
       "0.9157"
      ]
     },
     "execution_count": 146,
     "metadata": {},
     "output_type": "execute_result"
    }
   ],
   "source": [
    "acc = ANN.accuracy(test_images, test_label)\n",
    "acc"
   ]
  },
  {
   "cell_type": "markdown",
   "metadata": {},
   "source": [
    "## Impact of the number of hidden neurone on the performance"
   ]
  },
  {
   "cell_type": "code",
   "execution_count": 147,
   "metadata": {},
   "outputs": [
    {
     "name": "stdout",
     "output_type": "stream",
     "text": [
      "0\n",
      "1\n",
      "2\n",
      "3\n",
      "4\n",
      "5\n",
      "6\n",
      "7\n",
      "8\n",
      "9\n"
     ]
    }
   ],
   "source": [
    "df_performance = pd.DataFrame(columns = ['nb_hidden_perceptrons', 'accuracy'])\n",
    "\n",
    "for i in range(10):\n",
    "    print(i)\n",
    "    ANN = NeuralNetwork(nb_input_perceptrons = 784,\n",
    "                nb_hidden_perceptrons = (2*i)*10+1,\n",
    "                nb_output_perceptrons =10,\n",
    "                learning_rate = 0.05)\n",
    "    ANN.train(train_images, train_labels_one_hot)\n",
    "    \n",
    "    df_performance.loc[i,'nb_hidden_perceptrons'] =(2*i)*10+1\n",
    "    df_performance.loc[i, 'accuracy'] = ANN.accuracy(test_images, test_label)"
   ]
  },
  {
   "cell_type": "code",
   "execution_count": 148,
   "metadata": {},
   "outputs": [
    {
     "data": {
      "image/png": "[encoded data removed]",
      "text/plain": [
       "<Figure size 432x288 with 1 Axes>"
      ]
     },
     "metadata": {
      "needs_background": "light"
     },
     "output_type": "display_data"
    }
   ],
   "source": [
    "plt.plot(df_performance['nb_hidden_perceptrons'], df_performance['accuracy'])\n",
    "plt.show()"
   ]
  },
  {
   "cell_type": "code",
   "execution_count": 149,
   "metadata": {},
   "outputs": [
    {
     "data": {
      "text/plain": [
       "0      1\n",
       "1     21\n",
       "2     41\n",
       "3     61\n",
       "4     81\n",
       "5    101\n",
       "6    121\n",
       "7    141\n",
       "8    161\n",
       "9    181\n",
       "Name: nb_hidden_perceptrons, dtype: object"
      ]
     },
     "execution_count": 149,
     "metadata": {},
     "output_type": "execute_result"
    }
   ],
   "source": [
    "df_performance['nb_hidden_perceptrons']"
   ]
  },
  {
   "cell_type": "markdown",
   "metadata": {},
   "source": [
    "## Multiple Epoch"
   ]
  },
  {
   "cell_type": "code",
   "execution_count": 119,
   "metadata": {},
   "outputs": [],
   "source": [
    "ANN = NeuralNetwork(nb_input_perceptrons = 784,\n",
    "                nb_hidden_perceptrons = 50,\n",
    "                nb_output_perceptrons =10,\n",
    "                learning_rate = 0.05)"
   ]
  },
  {
   "cell_type": "code",
   "execution_count": 120,
   "metadata": {},
   "outputs": [
    {
     "name": "stdout",
     "output_type": "stream",
     "text": [
      "EPOCH #0 => accuracy = 0.9095\n",
      "EPOCH #1 => accuracy = 0.9254\n",
      "EPOCH #2 => accuracy = 0.9314\n"
     ]
    }
   ],
   "source": [
    "NB_EPOCHS = 3\n",
    "\n",
    "for epoch in range(NB_EPOCHS):\n",
    "    ANN.train(train_images, train_labels_one_hot)\n",
    "    acc= ANN.accuracy(test_images, test_label)\n",
    "    print(f\"EPOCH #{epoch} => accuracy = {acc}\")"
   ]
  }
 ],
 "metadata": {
  "kernelspec": {
   "display_name": "Python 3",
   "language": "python",
   "name": "python3"
  },
  "language_info": {
   "codemirror_mode": {
    "name": "ipython",
    "version": 3
   },
   "file_extension": ".py",
   "mimetype": "text/x-python",
   "name": "python",
   "nbconvert_exporter": "python",
   "pygments_lexer": "ipython3",
   "version": "3.7.6"
  }
 },
 "nbformat": 4,
 "nbformat_minor": 2
}
